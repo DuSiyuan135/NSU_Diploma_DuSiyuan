{
 "cells": [
  {
   "cell_type": "code",
   "execution_count": null,
   "id": "3b4703ee",
   "metadata": {},
   "outputs": [],
   "source": [
    "import matplotlib.pyplot as plt\n",
    "import numpy as np\n",
    "from scipy.interpolate import CubicSpline\n",
    "from pyplotz.pyplotz import plt\n",
    "\n",
    "\n",
    "plt.rcParams['figure.dpi'] = 1000\n",
    "plt.rcParams['figure.figsize'] = [7,5]\n",
    "\n",
    "fig,ax=plt.subplots()\n",
    "plt.xlim([-100, 100])\n",
    "plt.ylim([-100, 100])\n",
    "my_x_ticks = np.arange(-100, 100, 1)\n",
    "my_y_ticks = np.arange(-100, 100, 1)\n",
    "plt.xticks(my_x_ticks)\n",
    "plt.yticks(my_y_ticks)\n",
    "\n",
    "ax.axes.xaxis.set_ticklabels([])\n",
    "ax.axes.yaxis.set_ticklabels([])\n",
    "\n",
    "plt.grid(True)\n",
    "\n",
    "for i in range(0, 3300, 300):\n",
    "    name = \"k=\" + str(i)\n",
    "    data = np.loadtxt('Data\\\\Cell Concentration M=50 N=50 t=1500\\\\' + name + '.txt') \n",
    "    extent = (-100, 100, -100, 100 )\n",
    "    plt.imshow(data, extent=extent, cmap='Blues', vmin=-0, vmax=1)\n",
    "    plt.savefig('./img/Cell Concentration M=50 N=50/'+ name + '.png')\n",
    "    \n",
    "    data = np.loadtxt('Data\\\\Cell Concentration M=100 N=100 t=1500\\\\' + name + '.txt') \n",
    "    extent = (-100, 100, -100, 100 )\n",
    "    plt.imshow(data, extent=extent, cmap='Blues', vmin=-0, vmax=1)\n",
    "    plt.savefig('./img/Cell Concentration M=100 N=100/'+ name + '.png')\n",
    "    \n",
    "    data = np.loadtxt('Data\\\\Cell Concentration M=200 N=200 t=1500\\\\' + name + '.txt') \n",
    "    extent = (-100, 100, -100, 100 )\n",
    "    plt.imshow(data, extent=extent, cmap='Blues', vmin=-0, vmax=1)\n",
    "    plt.savefig('./img/Cell Concentration M=200 N=200/'+ name + '.png')"
   ]
  }
 ],
 "metadata": {
  "kernelspec": {
   "display_name": "Python 3 (ipykernel)",
   "language": "python",
   "name": "python3"
  },
  "language_info": {
   "codemirror_mode": {
    "name": "ipython",
    "version": 3
   },
   "file_extension": ".py",
   "mimetype": "text/x-python",
   "name": "python",
   "nbconvert_exporter": "python",
   "pygments_lexer": "ipython3",
   "version": "3.9.13"
  }
 },
 "nbformat": 4,
 "nbformat_minor": 5
}
